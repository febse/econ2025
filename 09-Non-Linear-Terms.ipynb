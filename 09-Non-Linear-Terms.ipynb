{
 "cells": [
  {
   "cell_type": "markdown",
   "id": "da1b4d15",
   "metadata": {},
   "source": [
    "# Non-Linear Terms\n",
    "\n"
   ]
  }
 ],
 "metadata": {
  "language_info": {
   "name": "python"
  }
 },
 "nbformat": 4,
 "nbformat_minor": 5
}
