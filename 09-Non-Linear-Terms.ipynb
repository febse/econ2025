{
  "cells": [
    {
      "cell_type": "markdown",
      "id": "da1b4d15",
      "metadata": {
        "id": "da1b4d15"
      },
      "source": [
        "# Non-Linear Terms\n",
        "\n",
        "Open in Colab: [![Open in Colab](https://colab.research.google.com/assets/colab-badge.svg)](https://colab.research.google.com/github/febse/econ2025/blob/main/09-Non-Linear-Terms.ipynb)\n",
        "\n",
        "## Simpson's paradox\n",
        "\n",
        "The data set `gdp2019` contains the GDP per capita in current prices for 142 countries in 2019. In addition, the variable `spending` shows the government spending in these countries as a share (in percent) of GDP.\n",
        "\n",
        "-   `gdppc` (numeric): [GDP per capita](https://www.imf.org/external/datamapper/NGDPDPC@WEO/OEMDC/ADVEC/WEOWORLD) in USD (current prices)\n",
        "-   `spending` (numeric): [Government spending as a share of GDP](https://www.imf.org/external/datamapper/exp@FPP/USA/FRA/JPN/GBR/SWE/ESP/ITA/ZAF/IND).\n",
        "\n",
        "The data set was constructed using data from the IFM. You can find more information about the two variables by following the links above.\n",
        "\n",
        "We want to explore the relationship between `gdppc` and `spending`.\n"
      ]
    },
    {
      "cell_type": "code",
      "execution_count": null,
      "id": "XuVhFdOOhW3S",
      "metadata": {
        "colab": {
          "base_uri": "https://localhost:8080/",
          "height": 425
        },
        "id": "XuVhFdOOhW3S",
        "outputId": "8b3ff270-513c-42b2-cf2c-6b213b6ab070",
        "vscode": {
          "languageId": "r"
        }
      },
      "outputs": [],
      "source": [
        "library(tidyverse)\n",
        "\n",
        "## Simpson's paradox (1)\n",
        "\n",
        "berkley <- read_csv(\n",
        "  \"https://waf.cs.illinois.edu/discovery/berkeley.csv\"\n",
        "  ) %>%\n",
        "  mutate(\n",
        "    is_rejected = ifelse(Admission == \"Accepted\", 0, 1),\n",
        "  )\n",
        "\n",
        "berkley %>% head()"
      ]
    },
    {
      "cell_type": "code",
      "execution_count": 60,
      "id": "8QZiRDTwhzIz",
      "metadata": {
        "colab": {
          "base_uri": "https://localhost:8080/",
          "height": 161
        },
        "id": "8QZiRDTwhzIz",
        "outputId": "8b6f146c-fad1-4e32-86ed-366931206c9b",
        "vscode": {
          "languageId": "r"
        }
      },
      "outputs": [
        {
          "data": {
            "text/html": [
              "<table class=\"dataframe\">\n",
              "<caption>A tibble: 2 × 4</caption>\n",
              "<thead>\n",
              "\t<tr><th scope=col>Gender</th><th scope=col>n</th><th scope=col>n_rejected</th><th scope=col>p_rejected</th></tr>\n",
              "\t<tr><th scope=col>&lt;chr&gt;</th><th scope=col>&lt;int&gt;</th><th scope=col>&lt;dbl&gt;</th><th scope=col>&lt;dbl&gt;</th></tr>\n",
              "</thead>\n",
              "<tbody>\n",
              "\t<tr><td>F</td><td>4321</td><td>2827</td><td>0.65</td></tr>\n",
              "\t<tr><td>M</td><td>8442</td><td>4704</td><td>0.56</td></tr>\n",
              "</tbody>\n",
              "</table>\n"
            ],
            "text/latex": [
              "A tibble: 2 × 4\n",
              "\\begin{tabular}{llll}\n",
              " Gender & n & n\\_rejected & p\\_rejected\\\\\n",
              " <chr> & <int> & <dbl> & <dbl>\\\\\n",
              "\\hline\n",
              "\t F & 4321 & 2827 & 0.65\\\\\n",
              "\t M & 8442 & 4704 & 0.56\\\\\n",
              "\\end{tabular}\n"
            ],
            "text/markdown": [
              "\n",
              "A tibble: 2 × 4\n",
              "\n",
              "| Gender &lt;chr&gt; | n &lt;int&gt; | n_rejected &lt;dbl&gt; | p_rejected &lt;dbl&gt; |\n",
              "|---|---|---|---|\n",
              "| F | 4321 | 2827 | 0.65 |\n",
              "| M | 8442 | 4704 | 0.56 |\n",
              "\n"
            ],
            "text/plain": [
              "  Gender n    n_rejected p_rejected\n",
              "1 F      4321 2827       0.65      \n",
              "2 M      8442 4704       0.56      "
            ]
          },
          "metadata": {},
          "output_type": "display_data"
        }
      ],
      "source": [
        "berkley %>%\n",
        "  group_by(Gender) %>%\n",
        "    summarize(\n",
        "        n = n(),\n",
        "        n_rejected = sum(is_rejected),\n",
        "        p_rejected = round(mean(is_rejected), 2)\n",
        "    )"
      ]
    },
    {
      "cell_type": "code",
      "execution_count": null,
      "id": "K5q4QcRoh5WX",
      "metadata": {
        "id": "K5q4QcRoh5WX",
        "vscode": {
          "languageId": "r"
        }
      },
      "outputs": [],
      "source": [
        "admission_by_major_gender <- berkley %>%\n",
        "  group_by(Major, Gender) %>%\n",
        "    summarize(\n",
        "        n = n(),\n",
        "        n_rejected = sum(is_rejected),\n",
        "        p_rejected = mean(is_rejected)\n",
        "    )\n",
        "admission_by_major_gender"
      ]
    },
    {
      "cell_type": "code",
      "execution_count": null,
      "id": "lQ1n7NnriFjt",
      "metadata": {
        "id": "lQ1n7NnriFjt",
        "vscode": {
          "languageId": "r"
        }
      },
      "outputs": [],
      "source": [
        "admission_by_major_gender %>%\n",
        "  ggplot(aes(x = Major, y = p_rejected, fill=Gender)) +\n",
        "    geom_bar(stat = \"identity\", position = \"dodge\") +\n",
        "    labs(\n",
        "      y = \"Admission rate\",\n",
        "      x = \"Major\"\n",
        "    ) +\n",
        "    theme(axis.text.x = element_text(angle = 45, hjust = 1))"
      ]
    },
    {
      "cell_type": "markdown",
      "id": "6C-aYAmjj1DE",
      "metadata": {
        "id": "6C-aYAmjj1DE"
      },
      "source": [
        "## Regression with Categorical Variables\n",
        "\n"
      ]
    },
    {
      "cell_type": "code",
      "execution_count": 61,
      "id": "rcGOl14Dj56H",
      "metadata": {
        "colab": {
          "base_uri": "https://localhost:8080/",
          "height": 286
        },
        "id": "rcGOl14Dj56H",
        "outputId": "f1239bd8-bb7e-4b97-cedd-e0dbecca7ef5",
        "vscode": {
          "languageId": "r"
        }
      },
      "outputs": [
        {
          "data": {
            "text/html": [
              "<table class=\"dataframe\">\n",
              "<caption>A tibble: 6 × 5</caption>\n",
              "<thead>\n",
              "\t<tr><th scope=col>Year</th><th scope=col>Major</th><th scope=col>Gender</th><th scope=col>Admission</th><th scope=col>is_rejected</th></tr>\n",
              "\t<tr><th scope=col>&lt;dbl&gt;</th><th scope=col>&lt;chr&gt;</th><th scope=col>&lt;chr&gt;</th><th scope=col>&lt;chr&gt;</th><th scope=col>&lt;dbl&gt;</th></tr>\n",
              "</thead>\n",
              "<tbody>\n",
              "\t<tr><td>1973</td><td>C    </td><td>F</td><td>Rejected</td><td>1</td></tr>\n",
              "\t<tr><td>1973</td><td>B    </td><td>M</td><td>Accepted</td><td>0</td></tr>\n",
              "\t<tr><td>1973</td><td>Other</td><td>F</td><td>Accepted</td><td>0</td></tr>\n",
              "\t<tr><td>1973</td><td>Other</td><td>M</td><td>Accepted</td><td>0</td></tr>\n",
              "\t<tr><td>1973</td><td>Other</td><td>M</td><td>Rejected</td><td>1</td></tr>\n",
              "\t<tr><td>1973</td><td>Other</td><td>M</td><td>Rejected</td><td>1</td></tr>\n",
              "</tbody>\n",
              "</table>\n"
            ],
            "text/latex": [
              "A tibble: 6 × 5\n",
              "\\begin{tabular}{lllll}\n",
              " Year & Major & Gender & Admission & is\\_rejected\\\\\n",
              " <dbl> & <chr> & <chr> & <chr> & <dbl>\\\\\n",
              "\\hline\n",
              "\t 1973 & C     & F & Rejected & 1\\\\\n",
              "\t 1973 & B     & M & Accepted & 0\\\\\n",
              "\t 1973 & Other & F & Accepted & 0\\\\\n",
              "\t 1973 & Other & M & Accepted & 0\\\\\n",
              "\t 1973 & Other & M & Rejected & 1\\\\\n",
              "\t 1973 & Other & M & Rejected & 1\\\\\n",
              "\\end{tabular}\n"
            ],
            "text/markdown": [
              "\n",
              "A tibble: 6 × 5\n",
              "\n",
              "| Year &lt;dbl&gt; | Major &lt;chr&gt; | Gender &lt;chr&gt; | Admission &lt;chr&gt; | is_rejected &lt;dbl&gt; |\n",
              "|---|---|---|---|---|\n",
              "| 1973 | C     | F | Rejected | 1 |\n",
              "| 1973 | B     | M | Accepted | 0 |\n",
              "| 1973 | Other | F | Accepted | 0 |\n",
              "| 1973 | Other | M | Accepted | 0 |\n",
              "| 1973 | Other | M | Rejected | 1 |\n",
              "| 1973 | Other | M | Rejected | 1 |\n",
              "\n"
            ],
            "text/plain": [
              "  Year Major Gender Admission is_rejected\n",
              "1 1973 C     F      Rejected  1          \n",
              "2 1973 B     M      Accepted  0          \n",
              "3 1973 Other F      Accepted  0          \n",
              "4 1973 Other M      Accepted  0          \n",
              "5 1973 Other M      Rejected  1          \n",
              "6 1973 Other M      Rejected  1          "
            ]
          },
          "metadata": {},
          "output_type": "display_data"
        }
      ],
      "source": [
        "berkley %>% head()"
      ]
    },
    {
      "cell_type": "code",
      "execution_count": 62,
      "id": "8_dQOy0Uj8af",
      "metadata": {
        "colab": {
          "base_uri": "https://localhost:8080/",
          "height": 255
        },
        "id": "8_dQOy0Uj8af",
        "outputId": "1cd591f8-8bbc-450a-8f18-01774f7f1070",
        "vscode": {
          "languageId": "r"
        }
      },
      "outputs": [
        {
          "data": {
            "text/html": [
              "<table class=\"dataframe\">\n",
              "<caption>A matrix: 6 × 2 of type dbl</caption>\n",
              "<thead>\n",
              "\t<tr><th></th><th scope=col>GenderF</th><th scope=col>GenderM</th></tr>\n",
              "</thead>\n",
              "<tbody>\n",
              "\t<tr><th scope=row>1</th><td>1</td><td>0</td></tr>\n",
              "\t<tr><th scope=row>2</th><td>0</td><td>1</td></tr>\n",
              "\t<tr><th scope=row>3</th><td>1</td><td>0</td></tr>\n",
              "\t<tr><th scope=row>4</th><td>0</td><td>1</td></tr>\n",
              "\t<tr><th scope=row>5</th><td>0</td><td>1</td></tr>\n",
              "\t<tr><th scope=row>6</th><td>0</td><td>1</td></tr>\n",
              "</tbody>\n",
              "</table>\n"
            ],
            "text/latex": [
              "A matrix: 6 × 2 of type dbl\n",
              "\\begin{tabular}{r|ll}\n",
              "  & GenderF & GenderM\\\\\n",
              "\\hline\n",
              "\t1 & 1 & 0\\\\\n",
              "\t2 & 0 & 1\\\\\n",
              "\t3 & 1 & 0\\\\\n",
              "\t4 & 0 & 1\\\\\n",
              "\t5 & 0 & 1\\\\\n",
              "\t6 & 0 & 1\\\\\n",
              "\\end{tabular}\n"
            ],
            "text/markdown": [
              "\n",
              "A matrix: 6 × 2 of type dbl\n",
              "\n",
              "| <!--/--> | GenderF | GenderM |\n",
              "|---|---|---|\n",
              "| 1 | 1 | 0 |\n",
              "| 2 | 0 | 1 |\n",
              "| 3 | 1 | 0 |\n",
              "| 4 | 0 | 1 |\n",
              "| 5 | 0 | 1 |\n",
              "| 6 | 0 | 1 |\n",
              "\n"
            ],
            "text/plain": [
              "  GenderF GenderM\n",
              "1 1       0      \n",
              "2 0       1      \n",
              "3 1       0      \n",
              "4 0       1      \n",
              "5 0       1      \n",
              "6 0       1      "
            ]
          },
          "metadata": {},
          "output_type": "display_data"
        }
      ],
      "source": [
        "model_matrix <- model.matrix(lm(is_rejected ~ 0 + Gender, data = berkley))\n",
        "model_matrix %>% head()"
      ]
    },
    {
      "cell_type": "code",
      "execution_count": 63,
      "id": "KR3u5j_AkJHF",
      "metadata": {
        "colab": {
          "base_uri": "https://localhost:8080/",
          "height": 286
        },
        "id": "KR3u5j_AkJHF",
        "outputId": "ec4a06a4-3a69-48cb-ae6f-06ace5c2d25b",
        "vscode": {
          "languageId": "r"
        }
      },
      "outputs": [
        {
          "data": {
            "text/html": [
              "<table class=\"dataframe\">\n",
              "<caption>A tibble: 6 × 7</caption>\n",
              "<thead>\n",
              "\t<tr><th scope=col>Year</th><th scope=col>Major</th><th scope=col>Gender</th><th scope=col>Admission</th><th scope=col>is_rejected</th><th scope=col>GenderF</th><th scope=col>GenderM</th></tr>\n",
              "\t<tr><th scope=col>&lt;dbl&gt;</th><th scope=col>&lt;chr&gt;</th><th scope=col>&lt;chr&gt;</th><th scope=col>&lt;chr&gt;</th><th scope=col>&lt;dbl&gt;</th><th scope=col>&lt;dbl&gt;</th><th scope=col>&lt;dbl&gt;</th></tr>\n",
              "</thead>\n",
              "<tbody>\n",
              "\t<tr><td>1973</td><td>C    </td><td>F</td><td>Rejected</td><td>1</td><td>1</td><td>0</td></tr>\n",
              "\t<tr><td>1973</td><td>B    </td><td>M</td><td>Accepted</td><td>0</td><td>0</td><td>1</td></tr>\n",
              "\t<tr><td>1973</td><td>Other</td><td>F</td><td>Accepted</td><td>0</td><td>1</td><td>0</td></tr>\n",
              "\t<tr><td>1973</td><td>Other</td><td>M</td><td>Accepted</td><td>0</td><td>0</td><td>1</td></tr>\n",
              "\t<tr><td>1973</td><td>Other</td><td>M</td><td>Rejected</td><td>1</td><td>0</td><td>1</td></tr>\n",
              "\t<tr><td>1973</td><td>Other</td><td>M</td><td>Rejected</td><td>1</td><td>0</td><td>1</td></tr>\n",
              "</tbody>\n",
              "</table>\n"
            ],
            "text/latex": [
              "A tibble: 6 × 7\n",
              "\\begin{tabular}{lllllll}\n",
              " Year & Major & Gender & Admission & is\\_rejected & GenderF & GenderM\\\\\n",
              " <dbl> & <chr> & <chr> & <chr> & <dbl> & <dbl> & <dbl>\\\\\n",
              "\\hline\n",
              "\t 1973 & C     & F & Rejected & 1 & 1 & 0\\\\\n",
              "\t 1973 & B     & M & Accepted & 0 & 0 & 1\\\\\n",
              "\t 1973 & Other & F & Accepted & 0 & 1 & 0\\\\\n",
              "\t 1973 & Other & M & Accepted & 0 & 0 & 1\\\\\n",
              "\t 1973 & Other & M & Rejected & 1 & 0 & 1\\\\\n",
              "\t 1973 & Other & M & Rejected & 1 & 0 & 1\\\\\n",
              "\\end{tabular}\n"
            ],
            "text/markdown": [
              "\n",
              "A tibble: 6 × 7\n",
              "\n",
              "| Year &lt;dbl&gt; | Major &lt;chr&gt; | Gender &lt;chr&gt; | Admission &lt;chr&gt; | is_rejected &lt;dbl&gt; | GenderF &lt;dbl&gt; | GenderM &lt;dbl&gt; |\n",
              "|---|---|---|---|---|---|---|\n",
              "| 1973 | C     | F | Rejected | 1 | 1 | 0 |\n",
              "| 1973 | B     | M | Accepted | 0 | 0 | 1 |\n",
              "| 1973 | Other | F | Accepted | 0 | 1 | 0 |\n",
              "| 1973 | Other | M | Accepted | 0 | 0 | 1 |\n",
              "| 1973 | Other | M | Rejected | 1 | 0 | 1 |\n",
              "| 1973 | Other | M | Rejected | 1 | 0 | 1 |\n",
              "\n"
            ],
            "text/plain": [
              "  Year Major Gender Admission is_rejected GenderF GenderM\n",
              "1 1973 C     F      Rejected  1           1       0      \n",
              "2 1973 B     M      Accepted  0           0       1      \n",
              "3 1973 Other F      Accepted  0           1       0      \n",
              "4 1973 Other M      Accepted  0           0       1      \n",
              "5 1973 Other M      Rejected  1           0       1      \n",
              "6 1973 Other M      Rejected  1           0       1      "
            ]
          },
          "metadata": {},
          "output_type": "display_data"
        }
      ],
      "source": [
        "berkey <- berkley %>%\n",
        "  bind_cols(model_matrix)\n",
        "berkey %>% head()"
      ]
    },
    {
      "cell_type": "code",
      "execution_count": 64,
      "id": "Y6F33W4Uic7F",
      "metadata": {
        "colab": {
          "base_uri": "https://localhost:8080/",
          "height": 330
        },
        "id": "Y6F33W4Uic7F",
        "outputId": "d17efd23-d74e-4b07-fa03-9de89086ac16",
        "vscode": {
          "languageId": "r"
        }
      },
      "outputs": [
        {
          "data": {
            "text/plain": [
              "\n",
              "Call:\n",
              "lm(formula = is_rejected ~ Gender, data = berkley)\n",
              "\n",
              "Residuals:\n",
              "    Min      1Q  Median      3Q     Max \n",
              "-0.6542 -0.5572  0.3458  0.4428  0.4428 \n",
              "\n",
              "Coefficients:\n",
              "            Estimate Std. Error t value Pr(>|t|)    \n",
              "(Intercept)  0.65425    0.00745   87.82   <2e-16 ***\n",
              "GenderM     -0.09703    0.00916  -10.59   <2e-16 ***\n",
              "---\n",
              "Signif. codes:  0 ‘***’ 0.001 ‘**’ 0.01 ‘*’ 0.05 ‘.’ 0.1 ‘ ’ 1\n",
              "\n",
              "Residual standard error: 0.4897 on 12761 degrees of freedom\n",
              "Multiple R-squared:  0.008717,\tAdjusted R-squared:  0.008639 \n",
              "F-statistic: 112.2 on 1 and 12761 DF,  p-value: < 2.2e-16\n"
            ]
          },
          "metadata": {},
          "output_type": "display_data"
        }
      ],
      "source": [
        "lm(is_rejected ~ Gender, data = berkley) %>%\n",
        "  summary()"
      ]
    },
    {
      "cell_type": "code",
      "execution_count": null,
      "id": "1AftA9SwjNxq",
      "metadata": {
        "id": "1AftA9SwjNxq",
        "vscode": {
          "languageId": "r"
        }
      },
      "outputs": [],
      "source": []
    },
    {
      "cell_type": "markdown",
      "id": "F9tnsj-KjQQr",
      "metadata": {
        "id": "F9tnsj-KjQQr"
      },
      "source": [
        "## Simpson's paradox (2)\n",
        "\n",
        "The data set `gdp2019` contains the GDP per capita in current prices for 142 countries in 2019. In addition, the variable `spending` shows the government spending in these countries as a share (in percent) of GDP.\n",
        "\n",
        "-   `gdppc` (numeric): [GDP per capita](https://www.imf.org/external/datamapper/NGDPDPC@WEO/OEMDC/ADVEC/WEOWORLD) in USD (current prices)\n",
        "-   `spending` (numeric): [Government spending as a share of GDP](https://www.imf.org/external/datamapper/exp@FPP/USA/FRA/JPN/GBR/SWE/ESP/ITA/ZAF/IND).\n",
        "\n",
        "The data set was constructed using data from the IFM. You can find more information about the two variables by following the links above.\n",
        "\n",
        "We want to explore the relationship between `gdppc` and `spending`."
      ]
    },
    {
      "cell_type": "code",
      "execution_count": null,
      "id": "c8NthniFjgs6",
      "metadata": {
        "id": "c8NthniFjgs6",
        "vscode": {
          "languageId": "r"
        }
      },
      "outputs": [],
      "source": [
        "gdp2019 <- read_csv(\n",
        "  \"https://raw.githubusercontent.com/feb-sofia/econometrics-2023/main/data/gdpgov2019.csv\"\n",
        "  ) %>%\n",
        "  filter(!is.na(spending))\n",
        "\n",
        "gdp2019 %>% head()"
      ]
    },
    {
      "cell_type": "markdown",
      "id": "cXvb442tjoKZ",
      "metadata": {
        "id": "cXvb442tjoKZ"
      },
      "source": [
        "1.  Create a scatterplot for the two variables and add the estimated regression line for the model\n",
        "\n",
        "$$\n",
        "\\text{gdppc}_i = \\beta_0 + \\beta_1 \\text{spending}_i + e_i, \\quad e_i \\sim N(0, \\sigma^2)\n",
        "$$\n"
      ]
    },
    {
      "cell_type": "code",
      "execution_count": 65,
      "id": "l_E1dvzBjrPN",
      "metadata": {
        "colab": {
          "base_uri": "https://localhost:8080/",
          "height": 593
        },
        "id": "l_E1dvzBjrPN",
        "outputId": "54a4d9cb-d5bc-45aa-97ba-430b0812d249",
        "vscode": {
          "languageId": "r"
        }
      },
      "outputs": [
        {
          "name": "stderr",
          "output_type": "stream",
          "text": [
            "\u001b[1m\u001b[22m`geom_smooth()` using formula = 'y ~ x'\n",
            "Warning message:\n",
            "“\u001b[1m\u001b[22mRemoved 2 rows containing non-finite outside the scale range (`stat_smooth()`).”\n",
            "Warning message:\n",
            "“\u001b[1m\u001b[22mRemoved 2 rows containing missing values or values outside the scale range\n",
            "(`geom_point()`).”\n",
            "Warning message:\n",
            "“\u001b[1m\u001b[22mRemoved 1 row containing missing values or values outside the scale range\n",
            "(`geom_smooth()`).”\n"
          ]
        },
        {
          "data": {
            "image/png": "[encoded data removed]",
            "text/plain": [
              "plot without title"
            ]
          },
          "metadata": {
            "image/png": {
              "height": 420,
              "width": 420
            }
          },
          "output_type": "display_data"
        }
      ],
      "source": [
        "gdp2019 %>%\n",
        "  ggplot(aes(x = spending, y = gdppc)) +\n",
        "  geom_point() +\n",
        "  geom_smooth(method = \"lm\") +\n",
        "  labs(\n",
        "    y = \"GDP per capita\",\n",
        "    x = \"Gov. spending\"\n",
        "  ) +\n",
        "  lims(\n",
        "    x = c(0, 70),\n",
        "    y = c(0, 90000)\n",
        "  )"
      ]
    },
    {
      "cell_type": "code",
      "execution_count": 66,
      "id": "l-ZO9rl1jv6T",
      "metadata": {
        "id": "l-ZO9rl1jv6T",
        "vscode": {
          "languageId": "r"
        }
      },
      "outputs": [],
      "source": [
        "# Estimate the model\n"
      ]
    },
    {
      "cell_type": "markdown",
      "id": "H4fh2bP-kyJz",
      "metadata": {
        "id": "H4fh2bP-kyJz"
      },
      "source": [
        "2.  Create a new variable called `gdppc_gr` that has five categories:\n",
        "\n",
        "-   Low: if $\\text{gdppc} \\leq 1025$\n",
        "-   Medium-low: if $1025 < \\text{gdppc} \\leq 3995$\n",
        "-   Medium-high: if $3995 < \\text{gdppc} \\leq 12375$\n",
        "-   High: if $12375 < \\text{gdppc} \\leq 30000$\n",
        "-   Very high: if $\\text{gdppc} > 30000$"
      ]
    },
    {
      "cell_type": "code",
      "execution_count": 67,
      "id": "BfxYQ_mlkxBk",
      "metadata": {
        "colab": {
          "base_uri": "https://localhost:8080/",
          "height": 69
        },
        "id": "BfxYQ_mlkxBk",
        "outputId": "2495ff5e-6e8d-4241-a5c4-e190fc259a14",
        "vscode": {
          "languageId": "r"
        }
      },
      "outputs": [
        {
          "data": {
            "text/plain": [
              "\n",
              "        Low  Medium-low Medium-high        High   Very high \n",
              "         13          36          40          26          27 "
            ]
          },
          "metadata": {},
          "output_type": "display_data"
        }
      ],
      "source": [
        "gdp2019 <- gdp2019 %>%\n",
        "  mutate(\n",
        "    gdppc_gr = cut(\n",
        "      gdppc,\n",
        "      breaks = c(0, 1025, 3995, 12375, 30000, Inf),\n",
        "      labels = c(\"Low\", \"Medium-low\", \"Medium-high\", \"High\", \"Very high\"))\n",
        "  )\n",
        "table(gdp2019$gdppc_gr)"
      ]
    },
    {
      "cell_type": "markdown",
      "id": "AYRyUJ-Ik4tP",
      "metadata": {
        "id": "AYRyUJ-Ik4tP"
      },
      "source": [
        "4.  Estimate the following linear model and interpret the estimated coefficients\n",
        "\n",
        "$$\n",
        "\\text{gdppc}_i = \\beta_0 + \\beta_{\\text{gdppc_gr}[i]} + e_i, e_i \\sim N(0, \\sigma^2)\n",
        "$$"
      ]
    },
    {
      "cell_type": "code",
      "execution_count": 68,
      "id": "4gBY5OU7k5r2",
      "metadata": {
        "id": "4gBY5OU7k5r2",
        "vscode": {
          "languageId": "r"
        }
      },
      "outputs": [],
      "source": []
    },
    {
      "cell_type": "code",
      "execution_count": 71,
      "id": "PgtmQaLclK6B",
      "metadata": {
        "colab": {
          "base_uri": "https://localhost:8080/",
          "height": 593
        },
        "id": "PgtmQaLclK6B",
        "outputId": "60d0ab7f-810d-47bf-d0e6-e4720df3efac",
        "vscode": {
          "languageId": "r"
        }
      },
      "outputs": [
        {
          "name": "stderr",
          "output_type": "stream",
          "text": [
            "\u001b[1m\u001b[22m`geom_smooth()` using formula = 'y ~ x'\n",
            "Warning message:\n",
            "“\u001b[1m\u001b[22mRemoved 2 rows containing non-finite outside the scale range (`stat_smooth()`).”\n",
            "Warning message:\n",
            "“\u001b[1m\u001b[22mRemoved 2 rows containing missing values or values outside the scale range\n",
            "(`geom_point()`).”\n",
            "Warning message:\n",
            "“\u001b[1m\u001b[22mRemoved 1 row containing missing values or values outside the scale range\n",
            "(`geom_smooth()`).”\n"
          ]
        },
        {
          "data": {
            "image/png": "[encoded data removed]",
            "text/plain": [
              "plot without title"
            ]
          },
          "metadata": {
            "image/png": {
              "height": 420,
              "width": 420
            }
          },
          "output_type": "display_data"
        }
      ],
      "source": [
        "gdp2019 %>%\n",
        "  ggplot(aes(x = spending, y = gdppc)) +\n",
        "  geom_point(aes( color = gdppc_gr)) +\n",
        "  geom_smooth(method = \"lm\") +\n",
        "  # geom_abline(\n",
        "  #   intercept = c(-144.39, 1308.32, 5835.94, 18460.21, 51920.69),\n",
        "  #   slope = 44.80,\n",
        "  #   alpha = 0.5\n",
        "  # ) +\n",
        "  lims(\n",
        "    x = c(0, 80),\n",
        "    y = c(0, 90000)\n",
        "  )"
      ]
    },
    {
      "cell_type": "markdown",
      "id": "asEEyDwbmeMk",
      "metadata": {
        "id": "asEEyDwbmeMk"
      },
      "source": [
        "## Interaction Effects\n"
      ]
    },
    {
      "cell_type": "code",
      "execution_count": 72,
      "id": "uxpY6quJmdv4",
      "metadata": {
        "colab": {
          "base_uri": "https://localhost:8080/",
          "height": 286
        },
        "id": "uxpY6quJmdv4",
        "outputId": "605fefab-0242-4661-ce4e-45f462711b23",
        "vscode": {
          "languageId": "r"
        }
      },
      "outputs": [
        {
          "data": {
            "text/html": [
              "<table class=\"dataframe\">\n",
              "<caption>A data.frame: 6 × 5</caption>\n",
              "<thead>\n",
              "\t<tr><th></th><th scope=col>male</th><th scope=col>drink</th><th scope=col>gpa</th><th scope=col>malegpa</th><th scope=col>sex</th></tr>\n",
              "\t<tr><th></th><th scope=col>&lt;int&gt;</th><th scope=col>&lt;int&gt;</th><th scope=col>&lt;dbl&gt;</th><th scope=col>&lt;dbl&gt;</th><th scope=col>&lt;chr&gt;</th></tr>\n",
              "</thead>\n",
              "<tbody>\n",
              "\t<tr><th scope=row>1</th><td>1</td><td> 5</td><td>3.20</td><td>3.20</td><td>Male  </td></tr>\n",
              "\t<tr><th scope=row>2</th><td>0</td><td> 9</td><td>3.00</td><td>0.00</td><td>Female</td></tr>\n",
              "\t<tr><th scope=row>3</th><td>1</td><td>29</td><td>2.85</td><td>2.85</td><td>Male  </td></tr>\n",
              "\t<tr><th scope=row>4</th><td>0</td><td>22</td><td>  NA</td><td>  NA</td><td>Female</td></tr>\n",
              "\t<tr><th scope=row>5</th><td>0</td><td>19</td><td>  NA</td><td>  NA</td><td>Female</td></tr>\n",
              "\t<tr><th scope=row>6</th><td>1</td><td>19</td><td>  NA</td><td>  NA</td><td>Male  </td></tr>\n",
              "</tbody>\n",
              "</table>\n"
            ],
            "text/latex": [
              "A data.frame: 6 × 5\n",
              "\\begin{tabular}{r|lllll}\n",
              "  & male & drink & gpa & malegpa & sex\\\\\n",
              "  & <int> & <int> & <dbl> & <dbl> & <chr>\\\\\n",
              "\\hline\n",
              "\t1 & 1 &  5 & 3.20 & 3.20 & Male  \\\\\n",
              "\t2 & 0 &  9 & 3.00 & 0.00 & Female\\\\\n",
              "\t3 & 1 & 29 & 2.85 & 2.85 & Male  \\\\\n",
              "\t4 & 0 & 22 &   NA &   NA & Female\\\\\n",
              "\t5 & 0 & 19 &   NA &   NA & Female\\\\\n",
              "\t6 & 1 & 19 &   NA &   NA & Male  \\\\\n",
              "\\end{tabular}\n"
            ],
            "text/markdown": [
              "\n",
              "A data.frame: 6 × 5\n",
              "\n",
              "| <!--/--> | male &lt;int&gt; | drink &lt;int&gt; | gpa &lt;dbl&gt; | malegpa &lt;dbl&gt; | sex &lt;chr&gt; |\n",
              "|---|---|---|---|---|---|\n",
              "| 1 | 1 |  5 | 3.20 | 3.20 | Male   |\n",
              "| 2 | 0 |  9 | 3.00 | 0.00 | Female |\n",
              "| 3 | 1 | 29 | 2.85 | 2.85 | Male   |\n",
              "| 4 | 0 | 22 |   NA |   NA | Female |\n",
              "| 5 | 0 | 19 |   NA |   NA | Female |\n",
              "| 6 | 1 | 19 |   NA |   NA | Male   |\n",
              "\n"
            ],
            "text/plain": [
              "  male drink gpa  malegpa sex   \n",
              "1 1     5    3.20 3.20    Male  \n",
              "2 0     9    3.00 0.00    Female\n",
              "3 1    29    2.85 2.85    Male  \n",
              "4 0    22      NA   NA    Female\n",
              "5 0    19      NA   NA    Female\n",
              "6 1    19      NA   NA    Male  "
            ]
          },
          "metadata": {},
          "output_type": "display_data"
        }
      ],
      "source": [
        "# Load the data\n",
        "stu <- read.csv(\"https://raw.githubusercontent.com/febse/data/main/econ/drinking.csv\") %>%\n",
        "  mutate(\n",
        "    sex = ifelse(male == 1, \"Male\", \"Female\")\n",
        "  )\n",
        "\n",
        "# Print the first few rows\n",
        "stu %>% head()"
      ]
    },
    {
      "cell_type": "code",
      "execution_count": 73,
      "id": "Rt_HT2RJmoBl",
      "metadata": {
        "colab": {
          "base_uri": "https://localhost:8080/",
          "height": 559
        },
        "id": "Rt_HT2RJmoBl",
        "outputId": "8d45711e-c074-4075-95ef-b661b97eb123",
        "vscode": {
          "languageId": "r"
        }
      },
      "outputs": [
        {
          "name": "stderr",
          "output_type": "stream",
          "text": [
            "\u001b[1m\u001b[22m`geom_smooth()` using formula = 'y ~ x'\n",
            "Warning message:\n",
            "“\u001b[1m\u001b[22mRemoved 25 rows containing non-finite outside the scale range\n",
            "(`stat_smooth()`).”\n",
            "Warning message:\n",
            "“\u001b[1m\u001b[22mRemoved 25 rows containing missing values or values outside the scale range\n",
            "(`geom_point()`).”\n"
          ]
        },
        {
          "data": {
            "image/png": "[encoded data removed]",
            "text/plain": [
              "plot without title"
            ]
          },
          "metadata": {
            "image/png": {
              "height": 420,
              "width": 420
            }
          },
          "output_type": "display_data"
        }
      ],
      "source": [
        "stu %>%\n",
        "  ggplot(aes(x=gpa, y=drink)) +\n",
        "    geom_point() +\n",
        "    geom_smooth(method=lm)"
      ]
    },
    {
      "cell_type": "markdown",
      "id": "Cn5tCNEvmsuZ",
      "metadata": {
        "id": "Cn5tCNEvmsuZ"
      },
      "source": [
        "Estimate and iterpret the results of the following models:\n",
        "\n",
        "- $\\text{drink}_i = \\beta_0 + \\beta_1\\text{gpa}_i + e_i$\n",
        "- $\\text{drink}_i = \\beta_0 + \\beta_1 \\text{sexMale}_i + e_i$\n",
        "- $\\text{drink}_i =\\beta_0 + \\beta_1 \\text{gpa}_i + \\beta_2 \\text{sexMale}_i + e_i$\n",
        "- $\\text{drink}_i = \\beta_0 + \\beta_1 \\text{gpa}_i + \\beta_2 \\text{sexMale}_i +\n",
        "\\beta_3 \\text{gpa}_i \\cdot \\text{sexMale}_i$"
      ]
    },
    {
      "cell_type": "code",
      "execution_count": 74,
      "id": "jK3tblSbmriE",
      "metadata": {
        "colab": {
          "base_uri": "https://localhost:8080/",
          "height": 139
        },
        "id": "jK3tblSbmriE",
        "outputId": "aa0089ae-e813-4ede-cffd-15671c3e2efa",
        "vscode": {
          "languageId": "r"
        }
      },
      "outputs": [
        {
          "data": {
            "text/plain": [
              "\n",
              "Call:\n",
              "lm(formula = drink ~ sex, data = stu)\n",
              "\n",
              "Coefficients:\n",
              "(Intercept)      sexMale  \n",
              "     17.313        3.998  \n"
            ]
          },
          "metadata": {},
          "output_type": "display_data"
        }
      ],
      "source": []
    },
    {
      "cell_type": "markdown",
      "id": "euziNH41n1s5",
      "metadata": {
        "id": "euziNH41n1s5"
      },
      "source": [
        "## Polynomial regression\n",
        "\n",
        "In the following we will simulate 100 observations from the following model\n",
        "\n",
        "$$\n",
        "y_i = 2 + x_i + x^2 + e_i, e_i \\sim N(0, 1)\n",
        "$$\n",
        "\n"
      ]
    },
    {
      "cell_type": "code",
      "execution_count": null,
      "id": "CVeEslL5n8Xg",
      "metadata": {
        "id": "CVeEslL5n8Xg",
        "vscode": {
          "languageId": "r"
        }
      },
      "outputs": [],
      "source": [
        "## Create the simulated sample\n",
        "sim_n <- 100\n",
        "\n",
        "poly_dt <- tibble(\n",
        "  x = runif(n = sim_n, min = -4, max = 3),\n",
        "  y = 2 +  x +  x^2 + rnorm(n = sim_n, mean = 0, sd = 1)\n",
        ")\n",
        "\n",
        "poly_dt %>%\n",
        "  ggplot(aes(x = x, y = y)) +\n",
        "  geom_point()\n"
      ]
    },
    {
      "cell_type": "markdown",
      "id": "DfAr0DbHoDRQ",
      "metadata": {
        "id": "DfAr0DbHoDRQ"
      },
      "source": [
        "\n",
        "2.  Estimate a linear model for `x` and `y`\n",
        "\n",
        "$$\n",
        "y_i = \\beta_0 + \\beta_1 x_i, e_i \\sim N(0, \\sigma^2)\n",
        "$$\n"
      ]
    },
    {
      "cell_type": "code",
      "execution_count": null,
      "id": "jpxnyPzmoGnB",
      "metadata": {
        "id": "jpxnyPzmoGnB",
        "vscode": {
          "languageId": "r"
        }
      },
      "outputs": [],
      "source": []
    },
    {
      "cell_type": "code",
      "execution_count": null,
      "id": "2yNgb-H_oHU-",
      "metadata": {
        "id": "2yNgb-H_oHU-",
        "vscode": {
          "languageId": "r"
        }
      },
      "outputs": [],
      "source": [
        "# fit1_pred <- predict(\n",
        "#   fit1,\n",
        "#   interval = \"confidence\"\n",
        "#   ) %>%\n",
        "#   as_tibble() %>%\n",
        "#   bind_cols(poly_dt) %>%\n",
        "#   mutate(\n",
        "#     res = y - fit\n",
        "#   )"
      ]
    },
    {
      "cell_type": "code",
      "execution_count": null,
      "id": "js0aQ_UooJut",
      "metadata": {
        "id": "js0aQ_UooJut",
        "vscode": {
          "languageId": "r"
        }
      },
      "outputs": [],
      "source": [
        "# fit1_pred %>%\n",
        "#   ggplot(aes(x = fit, y = res)) +\n",
        "#   geom_point() +\n",
        "#   geom_hline(yintercept = 0, alpha = 0.5, lty = 2) +\n",
        "#   labs(\n",
        "#     x = \"Predicted\",\n",
        "#     y = \"Residual\"\n",
        "#   )"
      ]
    },
    {
      "cell_type": "markdown",
      "id": "bY1VHmR8oNkl",
      "metadata": {
        "id": "bY1VHmR8oNkl"
      },
      "source": [
        "\n",
        "3.  Add a quadratic term to the linear model and estimate it\n",
        "\n",
        "$$\n",
        "y_i = \\beta_0 + \\beta_1 x_i + \\beta_2 x^2_i + e_i, e_i \\sim N(0, \\sigma^2)\n",
        "$$\n"
      ]
    },
    {
      "cell_type": "code",
      "execution_count": null,
      "id": "QA5lvh77oQO3",
      "metadata": {
        "id": "QA5lvh77oQO3",
        "vscode": {
          "languageId": "r"
        }
      },
      "outputs": [],
      "source": [
        "# fit2_pred <- predict(fit2, interval = \"confidence\") %>%\n",
        "#   as_tibble() %>%\n",
        "#   bind_cols(poly_dt) %>%\n",
        "#   mutate(\n",
        "#     res = y - fit\n",
        "#   )"
      ]
    },
    {
      "cell_type": "code",
      "execution_count": null,
      "id": "_GnJIskroSU4",
      "metadata": {
        "id": "_GnJIskroSU4",
        "vscode": {
          "languageId": "r"
        }
      },
      "outputs": [],
      "source": [
        "# fit2_pred %>%\n",
        "#   ggplot(aes(x = x, y = y)) +\n",
        "#   geom_point() +\n",
        "#   geom_line(\n",
        "#     aes(y = fit),\n",
        "#     color = \"steelblue2\"\n",
        "#   ) +\n",
        "#   geom_ribbon(\n",
        "#     aes(ymin = lwr, ymax = upr),\n",
        "#     alpha = 0.2,\n",
        "#     fill = \"steelblue2\"\n",
        "#   )"
      ]
    },
    {
      "cell_type": "code",
      "execution_count": null,
      "id": "t-E_p2M6oWSb",
      "metadata": {
        "id": "t-E_p2M6oWSb",
        "vscode": {
          "languageId": "r"
        }
      },
      "outputs": [],
      "source": [
        "# fit2_pred %>%\n",
        "#   ggplot(aes(x = fit, y = res)) +\n",
        "#   geom_point() +\n",
        "#   geom_hline(yintercept = 0, alpha = 0.5, lty = 2) +\n",
        "#   labs(\n",
        "#     x = \"Predicted\",\n",
        "#     y = \"Residual\"\n",
        "#   )"
      ]
    },
    {
      "cell_type": "markdown",
      "id": "J3QcfxGDobAB",
      "metadata": {
        "id": "J3QcfxGDobAB"
      },
      "source": [
        "4.  Add the third and fourth degree polynomial terms to the model and estimate it\n",
        "\n",
        "$$\n",
        "y_i = \\beta_0 + \\beta_1 x_i + \\beta_2 x^2_i + \\beta_3 x^3_i + \\beta_4 x^4_i + e_i, e_i \\sim N(0, \\sigma^2)\n",
        "$$"
      ]
    },
    {
      "cell_type": "code",
      "execution_count": null,
      "id": "kOyid2_6oabS",
      "metadata": {
        "id": "kOyid2_6oabS",
        "vscode": {
          "languageId": "r"
        }
      },
      "outputs": [],
      "source": []
    },
    {
      "cell_type": "code",
      "execution_count": null,
      "id": "k90gi_QCoeMM",
      "metadata": {
        "id": "k90gi_QCoeMM",
        "vscode": {
          "languageId": "r"
        }
      },
      "outputs": [],
      "source": [
        "# fit3_pred <- predict(fit3, interval = \"confidence\") %>%\n",
        "#   as_tibble() %>%\n",
        "#   bind_cols(poly_dt) %>%\n",
        "#   mutate(\n",
        "#     res = y - fit\n",
        "#   )"
      ]
    },
    {
      "cell_type": "code",
      "execution_count": null,
      "id": "zox17p_mofzI",
      "metadata": {
        "id": "zox17p_mofzI",
        "vscode": {
          "languageId": "r"
        }
      },
      "outputs": [],
      "source": [
        "# fit3_pred %>%\n",
        "#   ggplot(aes(x = x, y = y)) +\n",
        "#   geom_point() +\n",
        "#   geom_line(\n",
        "#     aes(y = fit),\n",
        "#     color = \"steelblue2\"\n",
        "#   ) +\n",
        "#   geom_ribbon(\n",
        "#     aes(ymin = lwr, ymax = upr),\n",
        "#     alpha = 0.2,\n",
        "#     fill = \"steelblue2\"\n",
        "#   )"
      ]
    },
    {
      "cell_type": "code",
      "execution_count": null,
      "id": "wM2MxfVmojp7",
      "metadata": {
        "id": "wM2MxfVmojp7",
        "vscode": {
          "languageId": "r"
        }
      },
      "outputs": [],
      "source": [
        "# fit3_pred %>%\n",
        "#   ggplot(aes(x = fit, y = res)) +\n",
        "#   geom_point() +\n",
        "#   geom_hline(yintercept = 0, alpha = 0.5, lty = 2) +\n",
        "#   labs(\n",
        "#     x = \"Predicted\",\n",
        "#     y = \"Residual\"\n",
        "#   )"
      ]
    },
    {
      "cell_type": "markdown",
      "id": "nZfqK9PXonGg",
      "metadata": {
        "id": "nZfqK9PXonGg"
      },
      "source": [
        "## Model choice\n",
        "\n",
        "1.  $R^2$\n",
        "\n",
        "$$\n",
        "R^2 = 1 - \\frac{RSS}{TSS} \\\\\n",
        "RSS = \\sum_{i = 1}^{n}(y_i - \\hat{y}_i)^2 \\\\\n",
        "TSS = \\sum_{i = 1}^{n}(y_i - \\bar{y})^2\n",
        "$$\n",
        "\n",
        "Compute $R^2$ for the three models. Which model fits the data best according to it?\n"
      ]
    },
    {
      "cell_type": "code",
      "execution_count": null,
      "id": "fDfcNUdbos3J",
      "metadata": {
        "id": "fDfcNUdbos3J",
        "vscode": {
          "languageId": "r"
        }
      },
      "outputs": [],
      "source": [
        "sim_noconst <- tibble(\n",
        "  y = 2 + rnorm(n = 100, mean = 0, sd = 1),\n",
        "  x = runif(n = 100)\n",
        ")\n",
        "\n",
        "sim_noconst %>%\n",
        "  ggplot(aes(x = x, y = y)) +\n",
        "  geom_point()"
      ]
    },
    {
      "cell_type": "markdown",
      "id": "vd509Zbkoxti",
      "metadata": {
        "id": "vd509Zbkoxti"
      },
      "source": [
        "2.  Adjusted $R^2$\n",
        "\n",
        "$$\n",
        "R^2_{ADJ} = 1 - \\frac{n - 1}{n - p - 1} \\frac{RSS}{TSS}\n",
        "$$\n",
        "\n",
        "3.  Information Criteria\n",
        "\n",
        "Compute the Akaike information criterion (AIC) for the three models and choose the best one.\n",
        "\n",
        "$$\n",
        "\\text{AIC} = n \\log\\left(\\frac{RSS}{n}\\right) + 2p + n + n \\log(2\\pi).\n",
        "$$"
      ]
    },
    {
      "cell_type": "code",
      "execution_count": null,
      "id": "mLI6aJeZo1yJ",
      "metadata": {
        "id": "mLI6aJeZo1yJ",
        "vscode": {
          "languageId": "r"
        }
      },
      "outputs": [],
      "source": [
        "AIC(fit1)\n",
        "AIC(fit2)\n",
        "AIC(fit3)"
      ]
    },
    {
      "cell_type": "code",
      "execution_count": null,
      "id": "RHFOJkd5o44T",
      "metadata": {
        "id": "RHFOJkd5o44T",
        "vscode": {
          "languageId": "r"
        }
      },
      "outputs": [],
      "source": [
        "smpl <- sample(1:100, 20)\n",
        "poly_dt_estim <- poly_dt[smpl, ]\n",
        "poly_dt_test <- poly_dt[-smpl, ]\n",
        "\n",
        "fit2_estim <- lm(y ~ poly(x, 4), data = poly_dt_estim)\n",
        "fit5_test <- lm(y ~ poly(x, 4), data = poly_dt_test)\n",
        "\n",
        "pred2 <- predict(fit2_estim, newdata = poly_dt_estim)\n",
        "pred5 <- predict(fit2_estim, newdata = poly_dt_estim)\n"
      ]
    }
  ],
  "metadata": {
    "colab": {
      "provenance": []
    },
    "kernelspec": {
      "display_name": "R",
      "name": "ir"
    },
    "language_info": {
      "name": "R"
    }
  },
  "nbformat": 4,
  "nbformat_minor": 5
}
