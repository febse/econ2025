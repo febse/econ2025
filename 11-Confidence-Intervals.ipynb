{
 "cells": [
  {
   "cell_type": "markdown",
   "id": "4de710a6",
   "metadata": {},
   "source": [
    "# Confidence Intervals\n",
    "\n",
    "$$\n",
    "y = 2 + 3 x_1 + 2 x_2 + \\epsilon, \\quad \\epsilon \\sim N(0, \\sigma^2)\n",
    "$$\n",
    "\n"
   ]
  },
  {
   "cell_type": "code",
   "execution_count": null,
   "id": "9812251c",
   "metadata": {
    "vscode": {
     "languageId": "r"
    }
   },
   "outputs": [
    {
     "ename": "",
     "evalue": "",
     "output_type": "error",
     "traceback": [
      "\u001b[1;31mFailed to start the Kernel. \n",
      "\u001b[1;31mUnable to start Kernel 'R (abs)' due to a timeout waiting for the ports to get used. \n",
      "\u001b[1;31mView Jupyter <a href='command:jupyter.viewOutput'>log</a> for further details."
     ]
    }
   ],
   "source": [
    "# Simulate a dataset with x_1, x_2 uniformly distributed on [0, 1]\n",
    "# and y = 2 + 3x_1 + 2 x_2 + e, where e is a normal error term with mean 0 and standard deviation \n",
    "\n",
    "sigma <- 2\n",
    "\n",
    "set.seed(123)  # For reproducibility\n",
    "n <- 100  # Number of observations\n",
    "R <- 1000\n",
    "\n",
    "sim <- tibble(\n",
    "  x_1 = runif(n*R, 0, 1),\n",
    "  x_2 = runif(n*R, 0, 1),\n",
    "  e = rnorm(n*R, mean = 0, sd = sigma),\n",
    "  y = 2 + 3 * x_1 + 2 * x_2 + e,\n",
    "  R = rep(1:R, each = n)\n",
    ")\n"
   ]
  }
 ],
 "metadata": {
  "kernelspec": {
   "display_name": "R",
   "language": "R",
   "name": "ir"
  },
  "language_info": {
   "name": "R"
  }
 },
 "nbformat": 4,
 "nbformat_minor": 5
}
